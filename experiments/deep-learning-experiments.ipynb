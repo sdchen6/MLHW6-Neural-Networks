{
 "cells": [
  {
   "cell_type": "markdown",
   "metadata": {},
   "source": [
    "# Deep Learning Experiments\n",
    "If you would like here is some structure for your experiments in a jupyter notebook. Here are some important keyboard shortcuts \n",
    "* shift + enter - run current cell and move to next cell\n",
    "* ctrl + enter - run current cell "
   ]
  },
  {
   "cell_type": "markdown",
   "metadata": {},
   "source": [
    "## Dependencies"
   ]
  },
  {
   "cell_type": "code",
   "execution_count": 2,
   "metadata": {},
   "outputs": [],
   "source": [
    "# if you need any other modules feel free to add them here\n",
    "import sys\n",
    "sys.path.append(\"..\") \n",
    "\n",
    "from src.models import Digit_Classifier, Dog_Classifier_FC, Dog_Classifier_Conv\n",
    "from src.run_model import run_model\n",
    "from src.run_model import _test\n",
    "from data.load_data import load_mnist_data\n",
    "from data.my_dataset import MyDataset\n",
    "from data.dogs import DogsDataset\n",
    "\n",
    "import matplotlib.pyplot as plt\n",
    "import numpy as np\n",
    "import time\n",
    "import csv\n",
    "import os\n",
    "os.chdir(r\"C:\\Users\\seand\\winter2022-hw6-neural-networks-sdchen6\")\n",
    "\n",
    "\n",
    "\n",
    "\n",
    "\n",
    "import torch\n",
    "import torch.nn as nn\n",
    "import torch.nn.functional as F"
   ]
  },
  {
   "cell_type": "markdown",
   "metadata": {},
   "source": [
    "## MNIST"
   ]
  },
  {
   "cell_type": "markdown",
   "metadata": {},
   "source": [
    "#### Cell for Spliting Data\n",
    "Here I have given you an example of loading in a tarining dataset. Remember you need 4 differently sized datasets for this part of the experiment (experimenting trainingset size to see how it changes accuracy and training time). I have also given you the testing set you need, you won't need to make any other testing sets. "
   ]
  },
  {
   "cell_type": "code",
   "execution_count": 3,
   "metadata": {},
   "outputs": [],
   "source": [
    "# create 4 datasets of size {500, 1000, 1500, 2000} from MNIST\n",
    "# to load the data need to use a pytorch Dataset object\n",
    "# this line will return (train_features, test_features, train_targets, test_targets)\n",
    "data_split500 = load_mnist_data(10, 1.0, 50)\n",
    "training_set500 = MyDataset(data_split500[0], data_split500[2])\n",
    "\n",
    "data_split1000 = load_mnist_data(10, 1.0, 100)\n",
    "training_set1000  = MyDataset(data_split1000[0], data_split1000[2])\n",
    "\n",
    "data_split1500 = load_mnist_data(10, 1.0, 150)\n",
    "training_set1500 = MyDataset(data_split1500[0], data_split1500[2])\n",
    "\n",
    "data_split2000 = load_mnist_data(10, 1.0, 200)\n",
    "training_set2000 = MyDataset(data_split2000[0], data_split2000[2])\n",
    "\n",
    "# testing set\n",
    "data_split = load_mnist_data(10, 0, 1000)\n",
    "testing_set = MyDataset(data_split[1], data_split[3])"
   ]
  },
  {
   "cell_type": "markdown",
   "metadata": {},
   "source": [
    "#### Cell for Training\n",
    "Here you need to train 4 models with training set sizes [500, 1000, 1500, 2000]. Track the training time & accuracy. \n",
    "\n",
    "***Optinal*** \n",
    "\n",
    "you can track your training time and accuracy by making a dictionary entry for the model ex.\n",
    "```training_time.update({model_size:training_time})```\n",
    "\n",
    "I've included the dictionary defintions in a cell below, if this method is confusing to you feel free to track any other way.\n"
   ]
  },
  {
   "cell_type": "code",
   "execution_count": 3,
   "metadata": {},
   "outputs": [],
   "source": [
    "# Dicionaries to track metrics\n",
    "# training time\n",
    "training_time = {}\n",
    "# training loss\n",
    "training_loss = {}\n",
    "# training accurary \n",
    "training_acc = {}\n",
    "# testing loss \n",
    "# OPTIONAL\n",
    "testing_loss = {}\n",
    "# testing acc\n",
    "testing_acc = {}\n"
   ]
  },
  {
   "cell_type": "code",
   "execution_count": 42,
   "metadata": {},
   "outputs": [
    {
     "name": "stdout",
     "output_type": "stream",
     "text": [
      "[500, 1000, 1500, 2000]\n",
      "[3.550936460494995, 6.933154344558716, 12.64883542060852, 17.71852469444275]\n",
      "[82.7340823970033, 86.36363636363556, 87.60980592441214, 89.75485188968257]\n"
     ]
    }
   ],
   "source": [
    "# HINT: To get the current time use: \n",
    "#     current_time = time.time()\n",
    "model_size = []\n",
    "training_time = []\n",
    "acc = []\n",
    "\n",
    "base_time = time.time()\n",
    "net500 = Digit_Classifier()\n",
    "model500, loss500, acc500 = run_model(net500,\n",
    "                        n_epochs=100,\n",
    "                        running_mode=\"train\",\n",
    "                        train_set= training_set500,\n",
    "                        test_set= testing_set,\n",
    "                        batch_size=10\n",
    "                        )\n",
    "current_time = time.time() - base_time\n",
    "model_size.append(500)\n",
    "training_time.append(current_time)\n",
    "\n",
    "#accuracy\n",
    "testloss500, testacc500 = run_model(model500,\n",
    "                        n_epochs=100,\n",
    "                        running_mode=\"test\",\n",
    "                        train_set= training_set500,\n",
    "                        test_set= testing_set,\n",
    "                        batch_size=10\n",
    "                        )\n",
    "acc.append(testacc500)\n",
    "\n",
    "\n",
    "\n",
    "base_time = time.time()\n",
    "net1000 = Digit_Classifier()\n",
    "model1000, loss1000, acc1000 = run_model(net1000,\n",
    "                        n_epochs=100,\n",
    "                        running_mode=\"train\",\n",
    "                        train_set= training_set1000,\n",
    "                        test_set= testing_set,\n",
    "                        batch_size=10\n",
    "                        )\n",
    "current_time = time.time() - base_time\n",
    "model_size.append(1000)\n",
    "training_time.append(current_time)\n",
    "\n",
    "#accuracy\n",
    "testloss1000, testacc1000 = run_model(model1000,\n",
    "                        n_epochs=100,\n",
    "                        running_mode=\"test\",\n",
    "                        train_set= training_set1000,\n",
    "                        test_set= testing_set,\n",
    "                        batch_size=10\n",
    "                        )\n",
    "acc.append(testacc1000)\n",
    "\n",
    "                    \n",
    "base_time = time.time()\n",
    "net1500 = Digit_Classifier()\n",
    "model1500, loss1500, acc1500 = run_model(net1500,\n",
    "                        n_epochs=100,\n",
    "                        running_mode=\"train\",\n",
    "                        train_set= training_set1500,\n",
    "                        test_set= testing_set,\n",
    "                        batch_size=10\n",
    "                        )\n",
    "current_time = time.time() - base_time\n",
    "model_size.append(1500)\n",
    "training_time.append(current_time)\n",
    "\n",
    "#accuracy\n",
    "testloss1500, testacc1500 = run_model(model1500,\n",
    "                        n_epochs=100,\n",
    "                        running_mode=\"test\",\n",
    "                        train_set= training_set1500,\n",
    "                        test_set= testing_set,\n",
    "                        batch_size=10\n",
    "                        )\n",
    "acc.append(testacc1500)\n",
    "\n",
    "\n",
    "base_time = time.time()\n",
    "net2000 = Digit_Classifier()\n",
    "model2000, loss2000, acc2000 = run_model(net2000,\n",
    "                        n_epochs=100,\n",
    "                        running_mode=\"train\",\n",
    "                        train_set= training_set2000,\n",
    "                        test_set= testing_set,\n",
    "                        batch_size=10\n",
    "                        )\n",
    "current_time = time.time() - base_time\n",
    "model_size.append(2000)\n",
    "training_time.append(current_time)\n",
    "\n",
    "#accuracy\n",
    "testloss2000, testacc2000 = run_model(model2000,\n",
    "                        n_epochs=100,\n",
    "                        running_mode=\"test\",\n",
    "                        train_set= training_set2000,\n",
    "                        test_set= testing_set,\n",
    "                        batch_size=10\n",
    "                        )\n",
    "acc.append(testacc2000)\n",
    "\n",
    "\n",
    "print(model_size)\n",
    "print(training_time)\n",
    "print(acc)\n"
   ]
  },
  {
   "cell_type": "markdown",
   "metadata": {},
   "source": [
    "### Graphs"
   ]
  },
  {
   "cell_type": "markdown",
   "metadata": {},
   "source": [
    "#### Style\n",
    "matplotlib has a lot of different styles which can be found here: \n",
    "https://matplotlib.org/3.2.2/gallery/style_sheets/style_sheets_reference.html"
   ]
  },
  {
   "cell_type": "code",
   "execution_count": 24,
   "metadata": {},
   "outputs": [],
   "source": [
    "from matplotlib import style\n",
    "style.use('fivethirtyeight')"
   ]
  },
  {
   "cell_type": "markdown",
   "metadata": {},
   "source": [
    "#### Model Size vs Training Time"
   ]
  },
  {
   "cell_type": "code",
   "execution_count": 43,
   "metadata": {},
   "outputs": [
    {
     "data": {
      "image/png": "[encoded data removed]",
      "text/plain": [
       "<Figure size 432x288 with 1 Axes>"
      ]
     },
     "metadata": {
      "needs_background": "light"
     },
     "output_type": "display_data"
    }
   ],
   "source": [
    "plt.title(\"Model Size vs Training Time \")\n",
    "plt.xlabel('Training Set Size')\n",
    "plt.ylabel('Time (seconds)')\n",
    "plt.plot(model_size,training_time)\n",
    "plt.show()"
   ]
  },
  {
   "cell_type": "markdown",
   "metadata": {},
   "source": [
    "#### Model size Vs Accuracy"
   ]
  },
  {
   "cell_type": "code",
   "execution_count": 40,
   "metadata": {},
   "outputs": [
    {
     "data": {
      "image/png": "[encoded data removed]",
      "text/plain": [
       "<Figure size 432x288 with 1 Axes>"
      ]
     },
     "metadata": {
      "needs_background": "light"
     },
     "output_type": "display_data"
    }
   ],
   "source": [
    "plt.title(\"Model Size vs Accuracy\")\n",
    "plt.xlabel('Training Set Size')\n",
    "plt.ylabel('Accuracy')\n",
    "\n",
    "plt.plot(model_size,acc)\n",
    "plt.show()"
   ]
  },
  {
   "cell_type": "markdown",
   "metadata": {},
   "source": [
    "#### OPTIONAL Training loss"
   ]
  },
  {
   "cell_type": "code",
   "execution_count": 8,
   "metadata": {},
   "outputs": [
    {
     "data": {
      "text/plain": [
       "[<matplotlib.lines.Line2D at 0x21f67f7c048>]"
      ]
     },
     "execution_count": 8,
     "metadata": {},
     "output_type": "execute_result"
    },
    {
     "data": {
      "image/png": "[encoded data removed]",
      "text/plain": [
       "<Figure size 432x288 with 1 Axes>"
      ]
     },
     "metadata": {
      "needs_background": "light"
     },
     "output_type": "display_data"
    }
   ],
   "source": [
    "plt.legend(['500', '1000', '1500', '2000'], loc='upper right')\n",
    "plt.title('Training Loss')\n",
    "plt.ylabel(\"Loss\")\n",
    "plt.xlabel('Epoch')\n",
    "plt.plot([1,2,3],[5,6,7])"
   ]
  },
  {
   "cell_type": "markdown",
   "metadata": {},
   "source": [
    "## Exploring DogSet"
   ]
  },
  {
   "cell_type": "markdown",
   "metadata": {},
   "source": [
    "#### Dogset CSV \n",
    "Explore breeds and trainingset vs testingset size using the included csv for DogSet"
   ]
  },
  {
   "cell_type": "code",
   "execution_count": 6,
   "metadata": {},
   "outputs": [],
   "source": [
    "base_folder = r'C:\\Users\\seand\\winter2022-hw6-neural-networks-sdchen6\\data'\n",
    "sub_folder = 'DogSet'\n",
    "dataset_name = 'dogs.csv'\n",
    "data_path = os.path.join(base_folder, sub_folder)\n",
    "\n",
    "sizes = {'train':0, 'test':0, 'valid':0}\n",
    "breeds = []"
   ]
  },
  {
   "cell_type": "markdown",
   "metadata": {},
   "source": [
    "## Training a model on DogSet"
   ]
  },
  {
   "cell_type": "markdown",
   "metadata": {},
   "source": [
    "#### Load the Data"
   ]
  },
  {
   "cell_type": "code",
   "execution_count": 8,
   "metadata": {},
   "outputs": [
    {
     "name": "stdout",
     "output_type": "stream",
     "text": [
      "loading train...\n",
      "loading valid...\n",
      "loading test...\n",
      "{'train': 7665, 'test': 555, 'valid': 2000}\n"
     ]
    }
   ],
   "source": [
    "dogset = DogsDataset(data_path)\n",
    "\n",
    "dog_train_ex, dog_train_lab = dogset.get_train_examples()\n",
    "sizes['train'] = len(dog_train_ex)\n",
    "dog_test_ex, dog_test_lab = dogset.get_test_examples()\n",
    "sizes['test'] = len(dog_test_ex)\n",
    "dog_val_ex, dog_val_lab = dogset.get_validation_examples()\n",
    "sizes['valid'] = len(dog_val_ex)\n",
    "\n",
    "\n",
    "train_set = MyDataset(dog_train_ex, dog_train_lab)\n",
    "test_set = MyDataset(dog_test_ex, dog_test_lab)\n",
    "val_set = MyDataset(dog_val_ex, dog_val_lab)\n",
    "\n",
    "print(sizes)\n"
   ]
  },
  {
   "cell_type": "markdown",
   "metadata": {},
   "source": [
    "#### Train the Model"
   ]
  },
  {
   "cell_type": "code",
   "execution_count": 24,
   "metadata": {},
   "outputs": [
    {
     "name": "stdout",
     "output_type": "stream",
     "text": [
      "1\n",
      "2\n",
      "3\n",
      "4\n",
      "5\n",
      "6\n",
      "7\n",
      "8\n",
      "9\n",
      "10\n",
      "11\n",
      "12\n",
      "13\n",
      "14\n",
      "15\n",
      "16\n",
      "17\n",
      "18\n",
      "19\n",
      "20\n",
      "21\n",
      "22\n",
      "23\n",
      "24\n",
      "25\n",
      "26\n",
      "27\n",
      "28\n",
      "29\n",
      "30\n",
      "31\n",
      "32\n",
      "33\n",
      "34\n",
      "35\n",
      "36\n",
      "37\n",
      "38\n",
      "39\n",
      "40\n",
      "41\n",
      "42\n",
      "43\n",
      "44\n",
      "45\n",
      "46\n",
      "47\n",
      "48\n",
      "49\n",
      "50\n",
      "51\n",
      "52\n",
      "53\n",
      "54\n",
      "55\n",
      "56\n",
      "57\n",
      "58\n",
      "59\n",
      "60\n",
      "61\n",
      "62\n",
      "63\n",
      "64\n",
      "65\n",
      "66\n",
      "67\n",
      "68\n",
      "69\n",
      "70\n",
      "71\n",
      "72\n",
      "73\n",
      "74\n",
      "75\n",
      "76\n",
      "77\n",
      "78\n",
      "79\n",
      "80\n",
      "81\n",
      "82\n",
      "83\n",
      "84\n",
      "85\n",
      "86\n",
      "87\n",
      "88\n",
      "89\n",
      "90\n",
      "91\n",
      "92\n",
      "93\n",
      "94\n",
      "95\n",
      "96\n",
      "97\n",
      "98\n",
      "99\n",
      "100\n",
      "{'train': [2.308766332412481, 2.307294180060614, 2.3057695156281435, 2.3043721092104756, 2.302925789371774, 2.30163845462625, 2.3002469129326135, 2.2990682177935304, 2.2977824086782364, 2.296535916558456, 2.295324695156948, 2.2941409232874426, 2.293005854707342, 2.2917782859354627, 2.290601936437316, 2.2895350344333374, 2.288333714707734, 2.287302613102939, 2.2862085369761638, 2.2851944547899388, 2.2841005415462607, 2.28311081442404, 2.282091183332918, 2.281014617760769, 2.2800617774431213, 2.2790295076805425, 2.278088995810438, 2.2770707364809715, 2.2761027567389736, 2.275127726396961, 2.274188080853558, 2.273306184206668, 2.272285231710879, 2.2713160486855437, 2.2703930445724545, 2.269456943912332, 2.268432700494122, 2.2675239486520264, 2.2665502810571465, 2.265644974006046, 2.2647659349628038, 2.2637522525240263, 2.2629091916836535, 2.2619892556166867, 2.2610723353737803, 2.2600837089558468, 2.2591691514503847, 2.2581394172554066, 2.2573379621667375, 2.256388704033843, 2.2553870177486575, 2.2545185838249235, 2.253574626231287, 2.252682308485486, 2.2517348227942318, 2.250797226655903, 2.2499094416607157, 2.248899675876563, 2.248043884976125, 2.247167474132473, 2.2461791327599596, 2.245212709732752, 2.24431750920481, 2.243476215210856, 2.242518133725461, 2.2414220113020678, 2.240690867624196, 2.2397946111537332, 2.2388020814475365, 2.2378370690376848, 2.237010226877603, 2.236112854471418, 2.235148401117387, 2.234194225873288, 2.233238321550511, 2.2325855973801993, 2.2315649625686187, 2.2306446489796645, 2.229629022667896, 2.2287812323116416, 2.2279074247999326, 2.227015994207489, 2.2260861891034063, 2.2250704016181917, 2.224294926072659, 2.2233629907436447, 2.2226085260296737, 2.221671469363893, 2.2207976588991505, 2.219831670589522, 2.2189275730386706, 2.21805977759181, 2.2172773473421317, 2.216261742789556, 2.2153770810155855, 2.2145081129036797, 2.2136220324303677, 2.2128200902466357, 2.211918823877556, 2.210999101050674], 'valid': [2.30619149684906, 2.304935644865036, 2.303703624010086, 2.3025118935108186, 2.301365727186203, 2.300248420238495, 2.299178385734558, 2.298141051530838, 2.2971363830566407, 2.296153259277344, 2.2951826667785644, 2.2942168962955476, 2.2932571625709532, 2.2923163199424743, 2.2913852989673615, 2.2904640114307404, 2.2895660531520843, 2.288694018125534, 2.287827558517456, 2.2869718170166013, 2.2861294138431547, 2.2852912294864653, 2.284450191259384, 2.2836111199855806, 2.282776311635971, 2.2819529294967653, 2.2811322689056395, 2.2803261148929597, 2.2795276284217834, 2.2787276339530944, 2.2779289281368253, 2.2771346843242646, 2.2763516426086428, 2.2755684340000153, 2.2747920143604277, 2.2740119564533234, 2.2732385849952697, 2.272470599412918, 2.2717001008987427, 2.2709251749515533, 2.270147545337677, 2.2693718492984774, 2.268601379394531, 2.267832306623459, 2.2670626294612886, 2.2662864077091216, 2.2655200684070587, 2.264748328924179, 2.2639696538448333, 2.26319230556488, 2.2624217653274536, 2.261655260324478, 2.26089164853096, 2.260134148597717, 2.259372225999832, 2.2586066043376922, 2.2578443455696107, 2.2570836412906647, 2.2563239240646364, 2.2555641031265257, 2.254809163808823, 2.254054300785065, 2.253297508955002, 2.252543561458588, 2.2517926692962646, 2.2510420262813566, 2.2502964317798613, 2.2495505201816557, 2.2488103592395783, 2.2480717062950135, 2.247333687543869, 2.246598166227341, 2.2458580124378202, 2.245118350982666, 2.2443760895729064, 2.243636815547943, 2.24290487408638, 2.2421761775016784, 2.2414506578445437, 2.2407295405864716, 2.240014181137085, 2.2392962980270386, 2.238589677810669, 2.23788635134697, 2.2371895480155946, 2.236492185592651, 2.2357979547977447, 2.23510027050972, 2.23440425157547, 2.2337092530727385, 2.2330213272571564, 2.232333872318268, 2.2316450679302218, 2.230963320732117, 2.230276265144348, 2.2295893263816833, 2.2289079999923707, 2.2282351899147033, 2.227563508152962, 2.2268987596035004]}\n",
      "{'train': [10.469361147327257, 10.83441981747068, 11.13428943937418, 11.616688396349389, 11.825293350717073, 12.099087353324618, 12.411994784876127, 12.581486310299853, 12.84224250325943, 13.03780964797914, 13.311603650586687, 13.45501955671445, 13.468057366362418, 13.715775749674023, 13.976531942633608, 14.119947848761367, 14.289439374185106, 14.563233376792665, 14.641460234680551, 14.745762711864366, 14.797913950456296, 14.980443285527986, 14.954367666232047, 15.08474576271181, 15.293350717079482, 15.488917861799202, 15.619295958278984, 15.801825293350689, 15.880052151238559, 15.945241199478447, 16.023468057366326, 16.166883963494087, 16.245110821381992, 16.29726205997389, 16.271186440677926, 16.42764015645369, 16.479791395045602, 16.571056062581455, 16.610169491525415, 16.81877444589304, 16.818774445893073, 16.9752281616688, 17.040417209908675, 17.131681877444546, 17.26205997392435, 17.340286831812225, 17.44458930899603, 17.574967405475814, 17.496740547587937, 17.496740547587954, 17.679269882659668, 17.744458930899555, 17.82268578878745, 17.822685788787446, 18.031290743155107, 17.966101694915203, 17.966101694915217, 18.057366362451052, 18.07040417209903, 18.135593220338926, 18.2790091264667, 18.357235984354585, 18.461538461538414, 18.53976531942629, 18.61799217731418, 18.63102998696215, 18.644067796610106, 18.70925684485004, 18.683181225554048, 18.826597131681826, 18.891786179921688, 18.970013037809586, 18.904823989569692, 18.983050847457562, 19.035202086049495, 19.087353324641388, 19.178617992177283, 19.282920469361102, 19.43937418513684, 19.400260756192896, 19.517601043024698, 19.556714471968636, 19.556714471968647, 19.595827900912596, 19.66101694915251, 19.791395045632267, 19.843546284224193, 19.817470664928234, 19.921773142112066, 19.921773142112066, 19.98696219035197, 20.013037809647916, 20.026075619295913, 20.0260756192959, 20.130378096479728, 20.14341590612769, 20.16949152542366, 20.221642764015566, 20.29986962190345, 20.31290743155145], 'valid': [10.75, 11.050000000000004, 11.650000000000007, 12.100000000000009, 12.500000000000009, 12.800000000000006, 12.900000000000004, 13.100000000000001, 13.000000000000004, 13.250000000000007, 13.600000000000012, 14.000000000000009, 14.05000000000001, 14.10000000000001, 14.150000000000007, 14.350000000000012, 14.499999999999998, 14.600000000000001, 14.750000000000007, 15.250000000000002, 15.60000000000002, 15.600000000000017, 15.550000000000008, 15.800000000000011, 16.05, 16.250000000000014, 16.300000000000004, 16.15000000000001, 16.10000000000001, 16.150000000000006, 16.15000000000001, 16.250000000000014, 16.35000000000001, 16.450000000000014, 16.650000000000023, 16.850000000000012, 17.100000000000016, 17.250000000000025, 17.050000000000022, 17.05000000000002, 17.00000000000001, 17.100000000000026, 17.250000000000018, 17.350000000000012, 17.350000000000023, 17.45, 17.55000000000001, 17.750000000000014, 17.90000000000001, 18.100000000000012, 18.10000000000001, 18.20000000000002, 18.300000000000008, 18.450000000000017, 18.400000000000013, 18.500000000000007, 18.60000000000001, 18.550000000000008, 18.700000000000017, 18.800000000000022, 18.80000000000002, 18.849999999999998, 18.900000000000027, 18.85000000000002, 18.800000000000022, 18.950000000000028, 19.050000000000015, 19.1, 19.100000000000016, 19.00000000000003, 19.000000000000018, 19.000000000000018, 18.85000000000001, 18.800000000000004, 18.85, 18.900000000000006, 19.050000000000026, 18.950000000000017, 19.000000000000025, 19.05000000000002, 19.050000000000022, 19.000000000000025, 19.05000000000002, 19.05000000000002, 19.150000000000016, 19.100000000000026, 19.30000000000002, 19.550000000000008, 19.450000000000006, 19.600000000000026, 19.550000000000015, 19.550000000000015, 19.55000000000002, 19.500000000000025, 19.55000000000001, 19.55000000000002, 19.55000000000002, 19.70000000000001, 19.60000000000002, 19.60000000000001]}\n"
     ]
    }
   ],
   "source": [
    "#model = Dog_Classifier_FC()\n",
    "#model, loss, acc = run_model()\n",
    "dog_class = Dog_Classifier_FC()\n",
    "\n",
    "\n",
    "dog_model, loss, acc = run_model(dog_class,running_mode='train', train_set=train_set, test_set = test_set, valid_set=val_set,batch_size=10,\n",
    "        n_epochs=100, learning_rate=1e-5)\n",
    "\n",
    "\n",
    "\n",
    "print(loss)\n",
    "print(acc)\n"
   ]
  },
  {
   "cell_type": "markdown",
   "metadata": {},
   "source": [
    "### Graphs and Metrics"
   ]
  },
  {
   "cell_type": "markdown",
   "metadata": {},
   "source": [
    "#### Graph the Training & Validation Loss"
   ]
  },
  {
   "cell_type": "code",
   "execution_count": 47,
   "metadata": {},
   "outputs": [
    {
     "name": "stdout",
     "output_type": "stream",
     "text": [
      "100\n",
      "True\n",
      "True\n"
     ]
    },
    {
     "data": {
      "text/plain": [
       "<matplotlib.legend.Legend at 0x21b860359c8>"
      ]
     },
     "execution_count": 47,
     "metadata": {},
     "output_type": "execute_result"
    },
    {
     "data": {
      "image/png": "[encoded data removed]",
      "text/plain": [
       "<Figure size 432x288 with 1 Axes>"
      ]
     },
     "metadata": {
      "needs_background": "light"
     },
     "output_type": "display_data"
    }
   ],
   "source": [
    "epochs_ran = len(loss['train'])\n",
    "print(epochs_ran)\n",
    "print(epochs_ran == len(loss['valid']))\n",
    "print(epochs_ran == len(acc['train']))\n",
    "\n",
    "plt.title('Training and Validation Loss')\n",
    "plt.ylabel(\"Loss\")\n",
    "plt.xlabel('Epoch')\n",
    "plt.plot(loss['train'], label=\"Training Loss\")\n",
    "plt.plot(loss['valid'], label = \"Validation Loss\")\n",
    "plt.legend()"
   ]
  },
  {
   "cell_type": "markdown",
   "metadata": {},
   "source": [
    "#### Graph the Training & Validation Accuracy"
   ]
  },
  {
   "cell_type": "code",
   "execution_count": 26,
   "metadata": {},
   "outputs": [
    {
     "data": {
      "text/plain": [
       "<matplotlib.legend.Legend at 0x21b855dd148>"
      ]
     },
     "execution_count": 26,
     "metadata": {},
     "output_type": "execute_result"
    },
    {
     "data": {
      "image/png": "[encoded data removed]",
      "text/plain": [
       "<Figure size 432x288 with 1 Axes>"
      ]
     },
     "metadata": {
      "needs_background": "light"
     },
     "output_type": "display_data"
    }
   ],
   "source": [
    "plt.title('Training and Validation Accuracy')\n",
    "plt.ylabel(\"Accuracy\")\n",
    "plt.xlabel('Epoch')\n",
    "plt.plot(acc['train'], label=\"Training Accuracy\")\n",
    "plt.plot(acc['valid'], label = \"Validation Accuracy\")\n",
    "plt.legend()"
   ]
  },
  {
   "cell_type": "markdown",
   "metadata": {},
   "source": [
    "#### Reporting Testing Loss and Accuracy"
   ]
  },
  {
   "cell_type": "code",
   "execution_count": 27,
   "metadata": {},
   "outputs": [
    {
     "name": "stdout",
     "output_type": "stream",
     "text": [
      "Loss 2.223356938787869\n",
      "acc 18.21428571428571\n"
     ]
    }
   ],
   "source": [
    "test_loss, test_acc = run_model(dog_model,running_mode='test', train_set=train_set, test_set = test_set, valid_set=val_set,batch_size=10,\n",
    "        n_epochs=100, learning_rate=1e-5)\n",
    "print(f'Loss {test_loss}')\n",
    "print(f'acc {test_acc}')"
   ]
  },
  {
   "cell_type": "markdown",
   "metadata": {},
   "source": [
    "## Convolutional layers "
   ]
  },
  {
   "cell_type": "markdown",
   "metadata": {},
   "source": [
    "#### Instantiating a Model and Training it\n",
    "You may want to edit run_model to print out the epochs for this section"
   ]
  },
  {
   "cell_type": "code",
   "execution_count": 43,
   "metadata": {},
   "outputs": [
    {
     "name": "stdout",
     "output_type": "stream",
     "text": [
      "1\n",
      "2\n",
      "3\n",
      "4\n",
      "5\n",
      "6\n",
      "7\n",
      "8\n",
      "9\n",
      "10\n",
      "11\n",
      "12\n",
      "13\n",
      "14\n",
      "15\n",
      "16\n",
      "17\n",
      "18\n",
      "19\n",
      "20\n",
      "21\n",
      "22\n",
      "23\n",
      "24\n",
      "25\n",
      "26\n",
      "27\n",
      "28\n",
      "29\n",
      "30\n",
      "31\n",
      "32\n",
      "33\n",
      "34\n",
      "35\n",
      "36\n",
      "37\n",
      "38\n",
      "39\n",
      "40\n",
      "41\n",
      "42\n",
      "43\n",
      "44\n",
      "45\n",
      "46\n",
      "47\n",
      "48\n",
      "49\n",
      "50\n",
      "51\n",
      "52\n",
      "53\n",
      "54\n",
      "55\n",
      "56\n",
      "57\n",
      "58\n",
      "59\n",
      "60\n",
      "61\n",
      "62\n",
      "63\n",
      "64\n",
      "65\n",
      "66\n",
      "67\n",
      "68\n",
      "69\n",
      "70\n",
      "71\n",
      "72\n",
      "73\n",
      "74\n",
      "75\n",
      "76\n",
      "77\n",
      "78\n",
      "79\n",
      "80\n",
      "81\n",
      "82\n",
      "83\n",
      "84\n",
      "85\n",
      "86\n",
      "87\n",
      "88\n",
      "89\n",
      "90\n",
      "91\n",
      "92\n",
      "93\n",
      "94\n",
      "95\n",
      "96\n",
      "97\n",
      "98\n",
      "99\n",
      "100\n"
     ]
    }
   ],
   "source": [
    "model = Dog_Classifier_Conv(kernel_size=[(5,5),(3,3)], stride=[(1,1),(1,1)])\n",
    "model1, loss1, acc1 = run_model(model,running_mode='train', train_set=train_set, test_set = test_set, valid_set=val_set,batch_size=10,\n",
    "        n_epochs=100, learning_rate=1e-5)"
   ]
  },
  {
   "cell_type": "markdown",
   "metadata": {},
   "source": [
    "#### Graphs"
   ]
  },
  {
   "cell_type": "code",
   "execution_count": 44,
   "metadata": {},
   "outputs": [
    {
     "data": {
      "text/plain": [
       "<matplotlib.legend.Legend at 0x21b85a32588>"
      ]
     },
     "execution_count": 44,
     "metadata": {},
     "output_type": "execute_result"
    },
    {
     "data": {
      "image/png": "[encoded data removed]",
      "text/plain": [
       "<Figure size 432x288 with 1 Axes>"
      ]
     },
     "metadata": {
      "needs_background": "light"
     },
     "output_type": "display_data"
    }
   ],
   "source": [
    "# Don't forget to label the x and y axis\n",
    "plt.title('CNN Training and Validation Loss')\n",
    "plt.ylabel(\"Loss\")\n",
    "plt.xlabel('Epoch')\n",
    "plt.plot(loss1['train'], label=\"Training Loss\")\n",
    "plt.plot(loss1['valid'], label = \"Validation Loss\")\n",
    "plt.legend()\n",
    "\n"
   ]
  },
  {
   "cell_type": "code",
   "execution_count": 45,
   "metadata": {},
   "outputs": [
    {
     "data": {
      "text/plain": [
       "<matplotlib.legend.Legend at 0x21b85ac8408>"
      ]
     },
     "execution_count": 45,
     "metadata": {},
     "output_type": "execute_result"
    },
    {
     "data": {
      "image/png": "[encoded data removed]",
      "text/plain": [
       "<Figure size 432x288 with 1 Axes>"
      ]
     },
     "metadata": {
      "needs_background": "light"
     },
     "output_type": "display_data"
    }
   ],
   "source": [
    "plt.title('CNN Training and Validation Accuracy')\n",
    "plt.ylabel(\"Accuracy\")\n",
    "plt.xlabel('Epoch')\n",
    "plt.plot(acc1['train'], label=\"Training Accuracy\")\n",
    "plt.plot(acc1['valid'], label = \"Validation Accuracy\")\n",
    "plt.legend()"
   ]
  },
  {
   "cell_type": "markdown",
   "metadata": {},
   "source": [
    "#### Reporting Testing Loss and Accuracy"
   ]
  },
  {
   "cell_type": "code",
   "execution_count": 46,
   "metadata": {},
   "outputs": [
    {
     "name": "stdout",
     "output_type": "stream",
     "text": [
      "Loss 2.2565113646643504\n",
      "acc 16.42857142857142\n"
     ]
    }
   ],
   "source": [
    "test_loss, test_acc = run_model(model1,running_mode='test', train_set=train_set, test_set = test_set, valid_set=val_set,batch_size=10,\n",
    "        n_epochs=100, learning_rate=1e-5)\n",
    "print(f'Loss {test_loss}')\n",
    "print(f'acc {test_acc}')"
   ]
  },
  {
   "cell_type": "markdown",
   "metadata": {},
   "source": [
    "## Digging more deeply into convolutional networks\n",
    "\n",
    "Now try doing this last section on your own, here are some useful keyboard shortcuts while using jupyter\n",
    "\n",
    "* dd - delete a cell\n",
    "* a - new cell above\n",
    "* b - new cell below\n",
    "* shift + enter - run current cell and move to next cell\n",
    "* ctrl + enter - run current cell "
   ]
  },
  {
   "cell_type": "code",
   "execution_count": null,
   "metadata": {},
   "outputs": [],
   "source": []
  }
 ],
 "metadata": {
  "kernelspec": {
   "display_name": "deep-learning",
   "language": "python",
   "name": "deep-learning"
  },
  "language_info": {
   "codemirror_mode": {
    "name": "ipython",
    "version": 3
   },
   "file_extension": ".py",
   "mimetype": "text/x-python",
   "name": "python",
   "nbconvert_exporter": "python",
   "pygments_lexer": "ipython3",
   "version": "3.8.3"
  }
 },
 "nbformat": 4,
 "nbformat_minor": 4
}
